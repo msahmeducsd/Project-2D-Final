{
 "cells": [
  {
   "cell_type": "markdown",
   "id": "cfb3eb10",
   "metadata": {},
   "source": [
    "# Project 2D Final Project\n",
    "\n",
    "## BIMM 143 SP22 A00                                                                                              \n",
    "\n",
    "### Sohail Ahmed (A17201798)"
   ]
  },
  {
   "attachments": {},
   "cell_type": "markdown",
   "id": "8c75ecf5",
   "metadata": {},
   "source": [
    "## Introduction\n",
    "\n",
    "### Scientific Question: \n",
    "- How does the regulation of oncogenes (e.g., EGFR, AKAP14, MEGF11, etc.) differ in metastasized pediatric CNS tumor tissue versus normal CNS tissue, and are there specific CNS cancers (i.e., astrocytoma/pilocytic, ependymoma, glioblastoma, and medulloblastoma) that correlate with said oncogene regulation. \n",
    "\n",
    "### Background:\n",
    "\n",
    "- For the metastasis of central nervous system (CNS) cancers (and cancers in general), the gene expression and regulation of oncogenes, genes that underwent consecutive mutations leading to the uncontrolled formation of cancerous cells, plays a vital role in the posibility that a cancer is to metastasis (i.e., invade and grow) in secondary regions of the body. This subsequently leads to the metastasis and formation of cancerous tumor tissue in other regions of the body; and of which, cancer metastasis in the CNS can be especially fatal due to the difficulty of treatment and recovery from the ailment. And so, it is paramount to understand how the oncogene regulation of cancerous tissue (CNS or otherwise) can induce the metastasis of tumors elsewhere in the body.\n",
    "\n",
    "\n",
    "- In a 2013 study of the immunophenotypes for pediatric CNS cancer (linked here: https://europepmc.org/article/MED/24078694), the authors collected and analyzed patient samples to determine the gene expression/regulation in log2 fold changes of various oncogenes found in both CNS cancer variants (i.e., astrocytoma/pilocytic, ependymoma, glioblastoma, and medulloblastoma) and normal tissue from the same patients. The compiled data can be obtained from the Expression Atlas (EBI), a database of gene expression datasets collected and compiled from innumerable papers and studies, and is located here: https://www.ebi.ac.uk/gxa/experiments/E-GEOD-50161/Results?specific=true&geneQuery=%255B%255D&filterFactors=%257B%257D&cutoff=%257B%2522foldChange%2522%253A1%252C%2522pValue%2522%253A0.05%257D&regulation=%2522UP_DOWN%2522, which presents all oncogenes expression levels alongside the p-value significance of expression and T-test for each oncogene.    \n",
    "\n",
    "\n",
    "### Scientific Hypothesis: \n",
    "- If there is an up-regulation of oncogenes in metastasized CNS tumor variants (i.e., astrocytoma/pilocytic, ependymoma, glioblastoma, and medulloblastoma), when comapred to normal tissue samples for the same oncogenes, then a significant difference in CNS metastasis is induced between the normal CNS and tumor variant tissue.\n",
    "\n",
    "### Aquiring Data/Analysis Methods:\n",
    "\n",
    "- To determine the above scientific hypothesis, and answer the question, a number of bioinformatics techniques (i.e., BLAST search, RNAseq with DESeq2, heat map with hierarchical clustering, and volcano plots) were ultilized to determine the gene regulation from a dataset of four primary pediatric CNS tumor samples (i.e., astrocytoma/pilocytic, ependymoma, glioblastoma, and medulloblastoma) collected and compared against normal tissue samples. The original datasets were downloaded from the Expression Atlas (EBI: https://www.ebi.ac.uk/gxa/experiments/E-GEOD-50161/Results?specific=true&geneQuery=%255B%255D&filterFactors=%257B%257D&cutoff=%257B%2522foldChange%2522%253A1%252C%2522pValue%2522%253A0.05%257D&regulation=%2522UP_DOWN%2522), all of which are provided in the repository, and converted into comma separated value (csv) files for ease of manipulation in python. \n",
    "\n",
    "\n",
    "- Additionally, the original files were split between the appropriate samples and values for use in analysis and plotting. Among the files available from EBI, the following were chosen for further analysis and plotting: the original experiement query results that include log2 fold changes and p-values, the experiment design table to sturcture the datasets, and the normalized expression data for gene expression/regulation. \n",
    "\n",
    "\n",
    "-  Now specifically for the BLAST search, the following fasta file for EGFR: https://www.ncbi.nlm.nih.gov/gene/1956, a related gene from the original gene expression dataset above, was utilized to determine the sequence alignment for an oncogene with metastasis influencing properties to a housekeeping gene responsible for maintaining metabolic function. And regarding the bioinformatics techniques briefly mentioned, the following were used to help determine the gene regulation of metastasis inducing oncogenes related to pediatric CNS cancer variants: BLAST search for sequence alignment of metastasis inducibility; RNAseq to determine the expression magnitude and significance using DESeq2; heat map with hierarchical clustering, and volcano plots to indicate the up or down-regulation of metastasis inducible oncogenes."
   ]
  },
  {
   "cell_type": "markdown",
   "id": "7d5009f7",
   "metadata": {},
   "source": [
    "## Loading in Packages\n",
    "\n",
    "### Package Descriptions:\n",
    "- NumPy: A python library used to work with arrays converted from datasets/dataframes. NumPy allows for the use of algebraic manipulation of matricies more efficiently than using base python (i.e., lists). Upon using numpy, an ndarray object is created and can be easily manipulated with numerous arguments and function available in numpy. Additionally, for Juypter Notebooks, numpy is already available and only needs to be imported, but can be installed from here: https://numpy.org/install/. \n",
    "\n",
    "\n",
    "- Pandas: A python library used for creating and manipulating datasets/dataframes from document files (e.g., txt, cvs, tvs, Excel, and otherwise). Using pandas, large datasets can be easily manipulated with various arguments and functions supported by the library. Similarly to numpy, pandas is also readily available as standard, but can be installed from here: https://pandas.pydata.org/docs/getting_started/install.html.    \n",
    "\n",
    "\n",
    "- Matplotlib.pyplot: A python library used for generating, organinzing, and labeling graphs from datasets/dataframes. Using matplotlib.pyplot, commonly under the submodule pyplot as plt, data can be turned into figures and graphs for visualization. Juypter Notebooks usually have matplotlib.pyplot available, but it can be easily installed from here: https://matplotlib.org/stable/users/installing/index.html. \n",
    "\n",
    "\n",
    "- Seaborn: A python library also used for generating, organizing, and labeling graphs/figures from datasets/dataframes, but seaborn rather takes random distributions and can be used for statistical visualization. Using seaborn as sns, which is primarily based of matplotlib, random distributions of data can be utilized to generate statical visualizations for further analysis. Juypter Notebooks only have the backbone (matplotlib) for utilizing seaborn, so it has to be installed as such: https://seaborn.pydata.org/installing.html.\n",
    "\n",
    "\n",
    "- Biopython: A python library used for the manipulation and analysis of biological compuational data and computational molecular biology. Specifically, using SeqIO from biopython, allows for an input/output interface to be generated and utilized to read sequence data/files (e.g., fasta) of biological components; also, these files are to be manipulated, filtered, and visualized using the supported functions and arguements under SeqIO. Biopython needs to be installed for use in a Juypter Notebook: https://biopython.org/wiki/Download.    \n",
    "\n",
    "\n",
    "- Rpy2/DESeq2: A python package that emulates DESeq, a R-coded program that allow for the differential expression analysis of gene expression, and is similarly used as such. Using the DESeq2 package as diffexp, gene expression count matrices are able to be manipulated and analyzed to determine the up and down-regulation, expressed as log2 fold change, of genes from a dataset and determine the p-value associated to said regulation. This data analysis can then be used to visualize the gene regulation via scatter and/or volcano plots. The packages used later on was referenced from here: https://github.com/wckdouglas/diffexpr. "
   ]
  },
  {
   "cell_type": "code",
   "execution_count": 12,
   "id": "ea126795",
   "metadata": {},
   "outputs": [
    {
     "name": "stdout",
     "output_type": "stream",
     "text": [
      "Collecting package metadata (current_repodata.json): ...working... done\n",
      "Solving environment: ...working... done\n",
      "\n",
      "## Package Plan ##\n",
      "\n",
      "  environment location: /Users/Mohamed_S_Ahmed/opt/anaconda3/envs/diffexpression\n",
      "\n",
      "  added / updated specs:\n",
      "    - python=3.6\n",
      "\n",
      "\n",
      "The following NEW packages will be INSTALLED:\n",
      "\n",
      "  ca-certificates    conda-forge/osx-64::ca-certificates-2022.5.18.1-h033912b_0\n",
      "  certifi            conda-forge/osx-64::certifi-2016.9.26-py36_0\n",
      "  libcxx             conda-forge/osx-64::libcxx-14.0.4-hc203e6f_0\n",
      "  libffi             conda-forge/osx-64::libffi-3.4.2-h0d85af4_5\n",
      "  libzlib            conda-forge/osx-64::libzlib-1.2.12-h6c3fc93_0\n",
      "  ncurses            conda-forge/osx-64::ncurses-6.3-h96cf925_1\n",
      "  openssl            conda-forge/osx-64::openssl-1.1.1o-hfe4f2af_0\n",
      "  pip                conda-forge/noarch::pip-21.2.4-pyhd8ed1ab_0\n",
      "  python             conda-forge/osx-64::python-3.6.15-haf480d7_0_cpython\n",
      "  python_abi         conda-forge/osx-64::python_abi-3.6-2_cp36m\n",
      "  readline           conda-forge/osx-64::readline-8.1-h05e3726_0\n",
      "  setuptools         conda-forge/osx-64::setuptools-49.6.0-py36h79c6626_3\n",
      "  sqlite             conda-forge/osx-64::sqlite-3.38.5-hd9f0692_0\n",
      "  tk                 conda-forge/osx-64::tk-8.6.12-h5dbffcc_0\n",
      "  wheel              conda-forge/noarch::wheel-0.37.1-pyhd8ed1ab_0\n",
      "  xz                 conda-forge/osx-64::xz-5.2.5-haf1e3a3_1\n",
      "  zlib               conda-forge/osx-64::zlib-1.2.12-h6c3fc93_0\n",
      "\n",
      "\n",
      "Preparing transaction: ...working... done\n",
      "Verifying transaction: ...working... done\n",
      "Executing transaction: ...working... done\n",
      "\n",
      "Note: you may need to restart the kernel to use updated packages.\n"
     ]
    }
   ],
   "source": [
    "#Create environment for the DESeq2 package; this part worked, but the remainder of the setup failed\n",
    "conda create -q -n diffexpression python=3.6 -y"
   ]
  },
  {
   "cell_type": "code",
   "execution_count": 21,
   "id": "33c3466b",
   "metadata": {},
   "outputs": [
    {
     "ename": "SyntaxError",
     "evalue": "invalid syntax (4271593474.py, line 1)",
     "output_type": "error",
     "traceback": [
      "\u001b[0;36m  File \u001b[0;32m\"/var/folders/89/ry9yq7_s7fz26jg3h1w9l5_c0000gp/T/ipykernel_88333/4271593474.py\"\u001b[0;36m, line \u001b[0;32m1\u001b[0m\n\u001b[0;31m    pandas tzlocal rpy2 biopython ReportLab pytest-cov\u001b[0m\n\u001b[0m           ^\u001b[0m\n\u001b[0;31mSyntaxError\u001b[0m\u001b[0;31m:\u001b[0m invalid syntax\n"
     ]
    }
   ],
   "source": [
    "#Set the local environment for biopython to utilize DESeq2; this is where it begins to fail\n",
    "    pandas tzlocal rpy2 biopython ReportLab pytest-cov\n",
    "#Call DESeq2 from bioconductor, within R-code for use in biopython; this never occured as previous line failed\n",
    "    bioconductor-deseq2 codecov"
   ]
  },
  {
   "cell_type": "code",
   "execution_count": 22,
   "id": "100126f2",
   "metadata": {
    "scrolled": true
   },
   "outputs": [
    {
     "ename": "SyntaxError",
     "evalue": "invalid syntax (1893798892.py, line 1)",
     "output_type": "error",
     "traceback": [
      "\u001b[0;36m  File \u001b[0;32m\"/var/folders/89/ry9yq7_s7fz26jg3h1w9l5_c0000gp/T/ipykernel_88333/1893798892.py\"\u001b[0;36m, line \u001b[0;32m1\u001b[0m\n\u001b[0;31m    conda activate diffexpression # activate diffexpr environment\u001b[0m\n\u001b[0m          ^\u001b[0m\n\u001b[0;31mSyntaxError\u001b[0m\u001b[0;31m:\u001b[0m invalid syntax\n"
     ]
    }
   ],
   "source": [
    "#Activate the environment for DESeq2; failed due to previous local environment not loading\n",
    "conda activate diffexpression\n",
    "#Set up the R script for DESeq2 for use through biopython; failed due to previous local environment not loading\n",
    "Rscript setup.R \n",
    "#Install the setup for python to emulate R and DESeq2; failed due to previous local environment not loading\n",
    "python setup.py install"
   ]
  },
  {
   "cell_type": "code",
   "execution_count": 1,
   "id": "74ee4d42",
   "metadata": {
    "scrolled": false
   },
   "outputs": [
    {
     "name": "stdout",
     "output_type": "stream",
     "text": [
      "Requirement already satisfied: fastcluster in /Users/Mohamed_S_Ahmed/opt/anaconda3/lib/python3.9/site-packages (1.2.6)\n",
      "Requirement already satisfied: numpy>=1.9 in /Users/Mohamed_S_Ahmed/opt/anaconda3/lib/python3.9/site-packages (from fastcluster) (1.20.3)\n",
      "Note: you may need to restart the kernel to use updated packages.\n"
     ]
    }
   ],
   "source": [
    "#Install fastcluster, which is primarily for the sake of efficiently loading in the heat map further below\n",
    "pip install fastcluster"
   ]
  },
  {
   "cell_type": "code",
   "execution_count": 92,
   "id": "61c6cafb",
   "metadata": {},
   "outputs": [],
   "source": [
    "#Load in the appropriate packages and import as noted in package descriptions\n",
    "import numpy as np\n",
    "import pandas as pd\n",
    "#Below for volcano plot\n",
    "import matplotlib.pyplot as plt\n",
    "#Below for heat map by hierarichal clustering\n",
    "import seaborn as sns\n",
    "#Below for BLAST search\n",
    "from Bio import SeqIO\n",
    "from Bio.Seq import Seq\n",
    "from Bio.Blast import NCBIWWW\n",
    "from Bio import Entrez\n",
    "#Below for DESeq2\n",
    "from diffexpr.py_deseq import py_DESeq2"
   ]
  },
  {
   "cell_type": "markdown",
   "id": "fbb3c4de",
   "metadata": {},
   "source": [
    "## Performing Bioinformatics Analysis\n",
    "\n",
    "### Bioinformatics Methods:\n",
    "- BLAST search: Basic Local Alignment Search Tool (BLAST) is used to scan through gene sequences/database for regions of shared similarity, which are then scored as an E-value that degree of similarity for the regions. For seqeunces, the Smith Waterman approach, done using a BLAST search for point scoring of matches and mismatches, can be used for either protein or nucleotides reads respectively. From there, the E-value is calculated to determine the significance of the region similarity. Specifically for python, BLAST searches of gene sequences can done using a fasta file that has been read using SeqIO; after that, various arguments and functions are utilized through SeqIO to perform the Smith Waterman approach to a local seqeunce alignment.  \n",
    "\n",
    "\n",
    "- RNAseq/DESeq2: RNA sequencing (RNAseq) in data analysis is used to map and count the gene expression from a dataset of numerous genes across various samples, which is obtained from laboratory techniques such as PCR or advanced sequence reading insturments. Regarding the data analysis, this is done through the differential analysis of the counted/read RNA seqeunces in dataset (i.e., csv, tsv, Excel spreadsheet, or otherwise) that indicate the gene expression/regulation in a sample. From there, the differential analysis dataset/matrices can be plotted to visualize the up or down-regulation of genes across individual samples. In python, this can be done various ways, but one way is to emulate the readily available package DESeq in R-code as DESeq2 from the previously mentioned link.      "
   ]
  },
  {
   "cell_type": "code",
   "execution_count": 43,
   "id": "4c6f2a0c",
   "metadata": {
    "scrolled": true
   },
   "outputs": [
    {
     "name": "stdout",
     "output_type": "stream",
     "text": [
      "ID: lcl|AB025197.1_cds_BAA76391.1_1\n",
      "Name: lcl|AB025197.1_cds_BAA76391.1_1\n",
      "Description: lcl|AB025197.1_cds_BAA76391.1_1 [gene=egfr] [protein=egfr] [protein_id=BAA76391.1] [location=1775..>1858] [gbkey=CDS]\n",
      "Number of features: 0\n",
      "Seq('ATGCGACCCTCAGGGACTGCGAGAACCAAGCTACTGCTGCTGCTGGCTGCGCTC...AAG')\n",
      "84\n",
      "ATGCGACCCTCAGGGACTGCGAGAACCAAGCTACTGCTGCTGCTGGCTGCGCTCTGCGCCGCAGGTGGGGCGCTGGAGGAAAAG\n"
     ]
    }
   ],
   "source": [
    "#Read in the EGFR fasta file for BLAST\n",
    "EGFR_gene = SeqIO.read(\"sequence.txt\", \"fasta\")\n",
    "#Sanity check for loading in fasta\n",
    "print(EGFR_gene)\n",
    "#Sanity check for length of EGFR gene\n",
    "print(len(EGFR_gene))\n",
    "#Setting the sequence of EGFR as a string argu\n",
    "EGFR_gene_seq = EGFR_gene.seq\n",
    "#Sanity check for previous argument\n",
    "print(EGFR_gene_seq)"
   ]
  },
  {
   "cell_type": "code",
   "execution_count": 44,
   "id": "1362d013",
   "metadata": {},
   "outputs": [
    {
     "name": "stdout",
     "output_type": "stream",
     "text": [
      "<_io.StringIO object at 0x121e3fb80>\n"
     ]
    }
   ],
   "source": [
    "#Read in EGFR string seqeuence through NCBIWW.qblast to load in StringIO object and xml file for BLAST\n",
    "EGFR_gene_result_handle = NCBIWWW.qblast(\"blastn\", \"nt\", EGFR_gene_seq)\n",
    "#Sanity check for StringIO object\n",
    "print(EGFR_gene_result_handle)"
   ]
  },
  {
   "cell_type": "code",
   "execution_count": 47,
   "id": "093bdac8",
   "metadata": {},
   "outputs": [
    {
     "name": "stdout",
     "output_type": "stream",
     "text": [
      "gi|1820947097|ref|XM_032916153.1| PREDICTED: Rattus rattus epidermal growth factor receptor (Egfr), mRNA\n",
      "3.7229e-33\n",
      "gi|1433535927|gb|M37394.3|RATEGFR Rattus norvegicus epidermal growth factor receptor (Egfr) mRNA, complete cds\n",
      "3.7229e-33\n",
      "gi|1997057976|ref|NM_001393707.1| Rattus norvegicus epidermal growth factor receptor (Egfr), transcript variant 2, mRNA\n",
      "3.7229e-33\n",
      "gi|1996833832|ref|NM_031507.2| Rattus norvegicus epidermal growth factor receptor (Egfr), transcript variant 1, mRNA\n",
      "3.7229e-33\n",
      "gi|315227974|gb|HM801042.1| Rattus norvegicus strain Sprague-Dawley epidermal growth factor receptor (Egfr) mRNA, complete cds\n",
      "3.7229e-33\n",
      "gi|315227972|gb|HM801041.1| Rattus norvegicus strain Yuyi Curly Hair epidermal growth factor receptor (Egfr) mRNA, complete cds\n",
      "3.7229e-33\n",
      "gi|6746384|gb|AF142153.1|AF142153 Rattus norvegicus epidermal growth factor receptor gene, partial cds\n",
      "3.7229e-33\n",
      "gi|4586455|dbj|AB025197.1| Rattus norvegicus egfr gene, partial cds\n",
      "3.7229e-33\n",
      "gi|1768030935|ref|XM_031342887.1| PREDICTED: Mastomys coucha epidermal growth factor receptor (Egfr), mRNA\n",
      "4.24782e-26\n",
      "gi|1679812553|ref|XM_021175457.2| PREDICTED: Mus caroli epidermal growth factor receptor (Egfr), transcript variant X1, mRNA\n",
      "2.20043e-23\n",
      "gi|1621835425|ref|XM_028778862.1| PREDICTED: Grammomys surdaster epidermal growth factor receptor (Egfr), mRNA\n",
      "2.20043e-23\n",
      "gi|1842207605|ref|XM_034508862.1| PREDICTED: Arvicanthis niloticus epidermal growth factor receptor (Egfr), mRNA\n",
      "2.68067e-22\n",
      "gi|1015632179|gb|AH009944.2| Mus musculus epidermal growth factor receptor (Egfr) gene, complete cds, alternatively spliced\n",
      "2.68067e-22\n",
      "gi|10880775|gb|AF275367.1|AF275367 Mus musculus epidermal growth factor receptor (Egfr) mRNA, complete cds\n",
      "2.68067e-22\n",
      "gi|5524152|gb|AF124513.1|AF124513 Mus musculus epidermal growth factor receptor (Egfr) mRNA, alternatively spliced, complete cds\n",
      "2.68067e-22\n",
      "gi|50803|emb|X59698.1| M.musculus mRNA for EGF-receptor\n",
      "2.68067e-22\n",
      "gi|1686214133|ref|XM_021210608.2| PREDICTED: Mus pahari epidermal growth factor receptor (Egfr), mRNA\n",
      "1.13985e-20\n",
      "gi|1907079866|ref|XM_036156288.1| PREDICTED: Mus musculus epidermal growth factor receptor (Egfr), transcript variant X1, mRNA\n",
      "1.13985e-20\n",
      "gi|90403618|ref|NM_007912.4| Mus musculus epidermal growth factor receptor (Egfr), transcript variant 2, mRNA\n",
      "1.13985e-20\n",
      "gi|90403617|ref|NM_207655.2| Mus musculus epidermal growth factor receptor (Egfr), transcript variant 1, mRNA\n",
      "1.13985e-20\n",
      "gi|74140967|dbj|AK134262.1| Mus musculus 13 days embryo forelimb cDNA, RIKEN full-length enriched library, clone:5930413O06 product:epidermal growth factor receptor, full insert sequence\n",
      "1.13985e-20\n",
      "gi|26093469|dbj|AK049452.1| Mus musculus 7 days embryo whole body cDNA, RIKEN full-length enriched library, clone:C430014G08 product:unclassifiable, full insert sequence\n",
      "1.13985e-20\n",
      "gi|18030083|gb|AF456454.1|AF456454 Mus musculus epidermal growth factor receptor (Egfr) gene, exon 1 and partial cds\n",
      "1.13985e-20\n",
      "gi|14043049|gb|AF187818.2| Rattus norvegicus epidermal growth factor receptor related protein (Errp) mRNA, complete cds\n",
      "1.13985e-20\n",
      "gi|12836511|dbj|AK004944.1| Mus musculus adult male liver cDNA, RIKEN full-length enriched library, clone:1300008I23 product:epidermal growth factor receptor, full insert sequence\n",
      "1.13985e-20\n",
      "gi|12836452|dbj|AK004911.1| Mus musculus adult male liver cDNA, RIKEN full-length enriched library, clone:1300005M11 product:epidermal growth factor receptor, full insert sequence\n",
      "1.13985e-20\n",
      "gi|12836403|dbj|AK004883.1| Mus musculus adult male liver cDNA, RIKEN full-length enriched library, clone:1300003K07 product:epidermal growth factor receptor, full insert sequence\n",
      "1.13985e-20\n",
      "gi|29125190|emb|BX255277.5| Mouse DNA sequence from clone RP23-478B14 on chromosome 11, complete sequence\n",
      "1.13985e-20\n",
      "gi|488830|emb|X78987.1| M.musculus (BALB/c) Epidermal Growth Factor Receptor mRNA\n",
      "1.13985e-20\n",
      "gi|23271839|gb|BC023729.1| Mus musculus epidermal growth factor receptor, mRNA (cDNA clone MGC:36101 IMAGE:5351807), complete cds\n",
      "1.13985e-20\n",
      "gi|458123|gb|U03425.1|MMU03425 Mus musculus B6/C3 EGF receptor mRNA, complete cds\n",
      "1.13985e-20\n",
      "gi|2038245277|ref|XM_041669983.1| PREDICTED: Microtus oregoni epidermal growth factor receptor (Egfr), transcript variant X3, mRNA\n",
      "1.38862e-19\n",
      "gi|2038245275|ref|XM_041669982.1| PREDICTED: Microtus oregoni epidermal growth factor receptor (Egfr), transcript variant X2, mRNA\n",
      "1.38862e-19\n",
      "gi|2038245273|ref|XM_041669981.1| PREDICTED: Microtus oregoni epidermal growth factor receptor (Egfr), transcript variant X1, mRNA\n",
      "1.38862e-19\n",
      "gi|1894914088|emb|LR877233.1| Acomys russatus genome assembly, chromosome: 22\n",
      "1.38862e-19\n",
      "gi|12851634|dbj|AK014017.1| Mus musculus 13 days embryo head cDNA, RIKEN full-length enriched library, clone:3110007E23 product:EPIDERMAL GROWTH FACTOR RECEPTOR (FRAGMENT) homolog [Mus musculus], full insert sequence\n",
      "5.90457e-18\n",
      "gi|1490483451|ref|XM_026788908.1| PREDICTED: Microtus ochrogaster epidermal growth factor receptor (Egfr), transcript variant X3, mRNA\n",
      "3.05864e-15\n",
      "gi|1490483441|ref|XM_026788907.1| PREDICTED: Microtus ochrogaster epidermal growth factor receptor (Egfr), transcript variant X2, mRNA\n",
      "3.05864e-15\n",
      "gi|1490483426|ref|XM_013353507.2| PREDICTED: Microtus ochrogaster epidermal growth factor receptor (Egfr), transcript variant X1, mRNA\n",
      "3.05864e-15\n",
      "gi|2052684875|ref|XM_042054959.1| PREDICTED: Arvicola amphibius epidermal growth factor receptor (Egfr), transcript variant X4, mRNA\n",
      "3.05864e-15\n",
      "gi|2052684873|ref|XM_038326979.2| PREDICTED: Arvicola amphibius epidermal growth factor receptor (Egfr), transcript variant X2, mRNA\n",
      "3.05864e-15\n",
      "gi|1949628605|ref|XM_038326971.1| PREDICTED: Arvicola amphibius epidermal growth factor receptor (Egfr), transcript variant X1, mRNA\n",
      "3.05864e-15\n",
      "gi|1929234670|ref|XM_028887425.2| PREDICTED: Peromyscus leucopus epidermal growth factor receptor (Egfr), transcript variant X3, mRNA\n",
      "3.05864e-15\n",
      "gi|1929234669|ref|XM_028887424.2| PREDICTED: Peromyscus leucopus epidermal growth factor receptor (Egfr), transcript variant X2, mRNA\n",
      "3.05864e-15\n",
      "gi|1929234668|ref|XM_028887422.2| PREDICTED: Peromyscus leucopus epidermal growth factor receptor (Egfr), transcript variant X1, mRNA\n",
      "3.05864e-15\n",
      "gi|2062786622|ref|XM_015988563.2| PREDICTED: Peromyscus maniculatus bairdii epidermal growth factor receptor (Egfr), transcript variant X3, mRNA\n",
      "3.72619e-14\n",
      "gi|2062786619|ref|XM_015988562.2| PREDICTED: Peromyscus maniculatus bairdii epidermal growth factor receptor (Egfr), transcript variant X2, mRNA\n",
      "3.72619e-14\n",
      "gi|2062786618|ref|XM_015988561.2| PREDICTED: Peromyscus maniculatus bairdii epidermal growth factor receptor (Egfr), transcript variant X1, mRNA\n",
      "3.72619e-14\n",
      "gi|2025796650|ref|XM_021227321.2| PREDICTED: Mesocricetus auratus epidermal growth factor receptor (Egfr), transcript variant X3, mRNA\n",
      "3.72619e-14\n",
      "gi|2025796649|ref|XM_005070406.4| PREDICTED: Mesocricetus auratus epidermal growth factor receptor (Egfr), transcript variant X2, mRNA\n",
      "3.72619e-14\n"
     ]
    }
   ],
   "source": [
    "#Open and load the EGFR xml file and perform the BLAST search for hits\n",
    "with open('EGFR_BLASTresults.xml', 'w') as save_file: \n",
    "    blast_results = EGFR_gene_result_handle.read() \n",
    "    save_file.write(blast_results)\n",
    "#Save the BLAST search and hits as arguments and print for sanity check\n",
    "handle = open(\"EGFR_BLASTresults.xml\")\n",
    "blast_record = NCBIXML.read(handle)\n",
    "for hit in blast_record.descriptions: \n",
    "    print(hit.title)\n",
    "    print(hit.e)"
   ]
  },
  {
   "cell_type": "code",
   "execution_count": 48,
   "id": "e3cf92e6",
   "metadata": {},
   "outputs": [
    {
     "name": "stdout",
     "output_type": "stream",
     "text": [
      "ACACAGAGCAGCCCCTGACCCGGGCGAATGCGGGCTTGTGCCGCCGCCGCCGCCGCCGCCCGGGCCAAGTGACAAAGGAAGGAAGGAAGCGAGGAGGAGCCGGCCCCGCAGCCGCTGACAGGGCTCTGGGCTGGGGCAAAGCGCGGACACTTCCTGAGCGGGCACCGAGCAGAGCCGAGGGGCGGGAGGGCGGCCGAGCTGTTGCCGCGGACGGGGGAGGGGGCCCCGAGGGACGGAAGCGGTTGCCGGGTTCCCATGTCCCTGGCGTATGGGGAGCAGTCGAGGAGCCGCTGCCTGGGGTCTGAAGGGAGCTGCCTCCGCCACCGCCGCCGCCATGGCCGCTGGATCCAGCCGCCGCCTGCAGCTGCTCCTGGCGCAATGAGGAGAGGAGCCGCCGCCACCGCCACCGCCCGCCTCTGACTGACTCGCGACTCCGCCGCCCTCTAGTTCGCCGGGCCCCCGCCGTCAGCCCGCCGGATCCCGCGGCTGCCGGAGCTGCAGCGTTTCCCGTCGCATCTCCGAGCCACCCCCTCCCTCCCTCTCCCTCCCTCCTACCCATCCCCCTTTCTCTTCAAGCGTGAGACTCGTGATCCTTCCGCGGCTTCCCTTCTTCATTGACTCGGAAAAAAAATCCCCGAGGAAAATATAATATTCGAAGTACTCATTTTCAATCAAGTATTTGCCCCCGTTTCACGTGATACATATTTTTTTAGGATTTGCCCCCTCTTTTCTCTCCTCCCAGGAAAGGGAGGGGAAAGAATTGTATTTTTTCCCAAGCCCTAAATCATCTATATGTTAAATATCCGTGCCGATCTGTCTTGAAGGAGAAATACATCGCTTGTTTTGTGTTTTATAGTATACAAAAGGAGTGAAAAGCCAAGAGGACGAAGTCTTTTTCTTTTTCTTCTGTGGGAGAACTTAATGCTGCATTTATCGTTAACCTAACACCCCAACATAAAGACAAAAGGAAGAAAAGGAGGAAGGAAGGAAAAGGTGATTCGCGAAGAGAGTGATCATGTCAGGGCGGCCCAGAACCACCTCCTTTGCGGAGAGCTGCAAGCCGGTGCAGCAGCCTTCAGCTTTTGGCAGCATGAAAGTTAGCAGAGACAAGGACGGCAGCAAGGTGACAACAGTGGTGGCAACTCCTGGGCAGGGTCCAGACAGGCCACAAGAAGTCAGCTATACAGACACTAAAGTGATTGGAAATGGATCATTTGGTGTGGTATATCAAGCCAAACTTTGTGATTCAGGAGAACTGGTCGCCATCAAGAAAGTATTGCAGGACAAGAGATTTAAGAATCGAGAGCTCCAGATCATGAGAAAGCTAGATCACTGTAACATAGTCAGATTGCGTTATTTCTTCTACTCCAGTGGTGAGAAGAAAGATGAGGTCTATCTTAATCTGGTGCTGGACTATGTTCCGGAAACAGTATACAGAGTTGCCAGACACTATAGTCGAGCCAAACAGACGCTCCCTGTGATTTATGTCAAGTTGTATATGTATCAGCTGTTCCGAAGTTTAGCCTATATCCATTCCTTTGGAATCTGCCATCGGGATATTAAACCGCAGAACCTCTTGTTGGATCCTGATACTGCTGTATTAAAACTCTGTGACTTTGGAAGTGCAAAGCAGCTGGTCCGAGGAGAACCCAATGTTTCGTATATCTGTTCTCGGTACTATAGGGCACCAGAGTTGATCTTTGGAGCCACTGATTATACCTCTAGTATAGATGTATGGTCTGCTGGCTGTGTGTTGGCTGAGCTGTTACTAGGACAACCAATATTTCCAGGGGATAGTGGTGTGGATCAGTTGGTAGAAATAATCAAGGTCCTGGGAACTCCAACAAGGGAGCAAATCAGAGAAATGAACCCAAACTACACAGAATTTAAATTCCCTCAAATTAAGGCACATCCTTGGACTAAGGTCTTCCGACCCCGAACTCCACCAGAGGCAATTGCACTGTGTAGCCGTCTGCTGGAGTATACCCCAACTGCCCGACTAACACCACTGGAAGCTTGTGCACATTCATTTTTTGATGAATTACGGGACCCAAATGTCAAACTACCAAATGGGCGAGACACACCTGCACTCTTCAACTTCACCACTCAAGAACTGTCAAGTAATCCACCTCTGGCTACCATCCTTATTCCTCCTCATGCTCGGATTCAAGCAGCTGCTTCAACCCCCACAAATGCCACAGCAGCCTCAGATGCTAATACTGGAGACCGTGGACAGACCAATAATGCTGCTTCTGCATCAGCTTCCAACTCCACCTGAACAGTCCCGAGCAGCCAGCTGCACAGGAAAAACCACCAGTTACTTGAGTGTCACTCAGCAACACTGGTCACGTTTGGAAAGAATATTAAAAAGAGAAAAAAAACCTGTTCATTTTAGTGTTCAATTTTTTTATTATTATTGTTGTTCTTATTTAACCTTGTAAAATATCTATAAATACAAACCAATTTCATTGTATTCTCACTTTGAGGGAGATCCAGGGGGTGGGAGGGGTTGTGGGGAGGGGGAAAGCGGAGCACTAGAACACACAATCTCTCTCCCACGACAATCTTTTTTTATTAAAAGTCTGCTGTTGTATACTTTAAAAACAGGACTCCTGCCTCATGCCCCTTCCACAAAAGAAGAAAACCTTTTTCTGTGCTGATGGGTTTTTTTTGAACTTTGTTTTCTTTTAAAGTCTAGTGCGAGACTTTGGTATAGTGCACAGCTTGAAATTGGTTGGGAGCTTAGCAGGTATAACTCAACGGGGACTTAAATGTCACTTGTAAAATTAATCCATATCTTCGGGTATTTATAGACTTGCCTTTGGCATGTTGGTGGCAGGTGTGGCAGACAAAGAAATGTGTATCATTCGTAACCCAGGGAGGTCAATAAAGTTTAGAACTCTACAGGGAAGATTCTTAGTAGATTTGTTAAGGTTTTGTTTTGCTCTCAGTTAGTGCTAGTGATGTAGAGGCTTGTACAGGAGGCTGCCAGAGGGGAAGCAGCAAGCAAGACTCAGGCACACATGCTCTACAGGTGGCTCTTTGTTTGCCTGACCAAAGTTCTTTGCAAATCTTAGCACAGTTTCAAACTAGTGACGTGGGAGGAGATGGAAGGGGTGTTGAGCAGGCCGAGCTAGCTGCTGAGGTCAAAGGCTGATGAGCCCAGAGGAAGGGGACAGGTCAGGGATACATCTCACCACTGTGAATAAGTTTGTCCAGATTTTTTTCTAAAGTTACTTCCCTTGGAAAGATACACTTGAGAGGACATTGTAGTTAAATAATGTGAACTGTAACAGTCGTCTACTGGTTTATTTTTCATATTTTTTAATTGAAAATTGAGCTTGCAGAAATAGCCACATTCTACACATAGTTCTAATTTTAAATCCAAATCTAGAATCTGTATTTAATTTGTTTTTTAACCTCATGCTTTTTACATTTATTTATTGATGCATGTCAGATGGTAGAAATATTAAAAACTACACATCAGAATGATACAGTCACTTATACCTGCTGACTTTATAGGAAAGCTGATGATATAAATGTGTGTATATACGTTATATATACATATATTCAATACTGCCTTTTTTTTGTCTACAGTATCAAAATTGACTGGTTGAAGCATGAGAAGAATGTTTCCCCCACACCCAGTTAAGAGTTTTTGTGTCTGTTTTCTTTGTGTATCAGTGAACGATGTTAAGAATCAGTCTCTCTTTTTGAAGAAAAAGCAATATTCCTTGGAAAGCAAGGAGAATTGAAGGACTATGTTTGCTGTGAGGAAATAGATTTTCATGACTAGTTTGTTTTATACTTTTAAGGTTGGCATCTATGTGGGCCTTATATACTCTAAAATGAACTTTAGTCACCTTGGTGCTTATGGGCCATTACTTGACCTATGAATCTTTAAGGCACAATCAGTTGTACTTTACATTTAAAGATCACTTCAGTGATGGCCGCCTTTCCCTCCTACCCGCTCCTTCCCCACATGCCTTCCAAGGTTAGCTGGTAACTGTAGGGCTGCAGAGCTGAGCCCTTGGTTGTGTGTAACTTGCCCTCACCCTCCTCATTGCCACCTTAGGTCACTTTATGGGTCTCGTCCTCCAGAGGGTTCGGAAGTGGAGTCTGTTGGCAGCCCTCCTGCAGGCCCTAGCACCCTGTCCTGCTCCTTAACTGTGTGTGTGACTCTCCAAGAGAGTTGTCCTGCCTGCTGAAGTGAACCAGTACCCAGAAAGACAACTGTGAGCCATCTTGGTTTTCACTCGCTGTTTAGCTGAGGTCTTGGGCCACAAAAGGGGTTTCACAAACCTCTGGATATATCAGAGTTCATGAGAAAGGAAACGTGCTCAGTCAAACCAAATCAAACAAATTGAATTTTATATTTTATAAAGTGCTTCTGAAAGCTAAGATTTGAAAGAAGTCTGAAATCAAAGTATTTAGCAGCATAACTCCTTAAAGGTAGTGGCGTTGATAGACCATTTTCCGACAGAATTTATAAAGAATCTGGAAAGGCAGGTCTGTGATAGAGAAATGGACCTGCATTCAGATCCAACTGCCCAGCAAGCGTTTGGATGCAGACACTGCTCTGGACGTGGTATACTCCCCAGAGTCCATAAAAATCAGTGCTTATTTTAGGAAACAGGTTGCCCCCCACAACTGGGGTAAAAGAAGAGAGAAAAGTCACGCTTTTCTCTCATTTCATTGTGTGTGCATGTGTGTGTGTGTGTGTGTGTGTGTGTGTGTGTGGGCTGAGATGTGTGATTTTTCTTTCTCAAGGATCATGGTGGGATCACAGAACTCTTTTATACAAGTGAGATCCAGGTCTCTGAATATCTTTTTGTATATAATAATAATAATAAGCTCCTCACCAAATTCAAGCTTGTACATTATATTTTCTTTCTGTGTTTTTAAATTTAAGTTTTATTGTTTTGTATGTAAATATGTGGACCCAGGAACTGTTATTAATGAGCAAAAAGTTACTGTTCAGGGCAGTGATTCTGTTTAATAATCAGACAAAATGTAGACGAGCTTTTTAAAGCCATATAGTTTTAACTCTGTACAGTAGGTACCGGCCTGTATTATTGTAACAATAACTCTAGCAATGTATAGTGTATCTATATAGTTTGGAGTGCCTTCGCTTCCATGTGTTTTTTTTTTAAATTTGTTCTTTTTTAAATTTTAATTGGTTTCCTTTATCCATGTCTCCCTGTCCACCCCCTTTCCCTTTGAAATAATAACTCACTCATAACAGTATCTTTGCCCCTTCCACAGTTAAGTTTCAGTGATACCATACTCAGGAGTGGGAAGAGGAAATCATATTCGTAATTTCATTTTGTTGAAGCCCTGCCTTTGTTTTGGTTCTGAATGTCTTTCCTCCTCGGTAGCAGTGACCGGTTTCATTTCATACTTAGTCCATTCAGGGACTTAGTGTAGTACCAGGGAGCCCTAGAGCTGGAGGATATCGAATAGATTAAATTTTGCTCGTCTCTTCCACAAGCCCTAACCGTGGGTCTTAAAAACAGCAGATTCTGGGAGCCTTCCATGCTCTCTCTCTCTCCTGTTTTATCTACTTCCCTCCCAAATGAGAGAGTGAGAGAGAATTGGTTTTTTATAAATCGAAGTTTCTTAATAGTATCAGGTTTTGATACGTCAGTGGTCTAAAATGCTATAGTGCAATTACTAGCAGTTACTGCACGGAGTGCCACCGTGCCAATAGAGGACTGTTGTTTTAACAAGGGAACTCTTAGCCCATTTCCTCCCTCCCGCCATCTCTACCCTTGCTCAATGAAATATCATTTTAATTTCTTTTAAAAAAATCAGTTTAATTCTTACTGTGTGCCCAACACGAAGGCCTTTTTTGAAAGAAAAATAGAATGTTTTGCCTCAAAATAGTCCATATAAAATGTCTTGAATAGAAGAAAAAACTTTACCAAACCAAAGGTTACTATTTTTGAAACATCGTGTGTTCATTCCAGCAAGGCAGAAGACTGCACCTTCTTTCCAGTGACATGCTGTGTCATTTTTTTTAAGTCCTCTTAATTTTTAGACACATTTTTGGTTTATGTTTTAACAATGTATGCCTAACCAGTCATCTTGTCTGCACCAATGCAAAGGTTTCTGAGAGGAGTATTCTCTATCCCTGTGGATATAAAGACACTGGCATTTCATCTATTTTTCTCTTTCCTTTTTAAAGGATTTAACTTTGGAATCTTCCAAAGGAAGTTTGGCCAATGCCAGATCCCCAGGAATTTGGGGGGTTTTCTTTCTTTTCAACTGAAATTGTATCTGATTCCTACTGTTCATGTTAGTGATCATCTAATCACAGAGCCAAACACTTTTCTCCCCTGTGTGGAAAAGTAGGTATGCTTTACAATAAAATCTGTCTTTTCTGGTAGAAACCTGAGCCACTGAAAATAAAAGAGACAACTAGAAGCACAGTAGAGTCCCAGACTGAGATCTACCTTTGAGAGGCTTTGAAAGTAATCCCTGGGGTTTGGATTATTTTCACAAGGGTTATGCCGTTTTATTCAAGTTTGTTGCTCCGTTTTGCACCTCTGCAATAAAAGCAAAATGACAACCAGTACATAAGGGGTTAGCTTGACAAAGTAGACTTCCTTGTGTTAATTTTTAAGTTTTTTTTCCTTAACTATATCTGTCTACAGGCAGATACAGATAGTTGTATGAAAATCTGCTTGCCTGTAAAATTTGCATTTATAAATGTGTTGCCGATGGATCACTTGGGCCTGTACACATACCAATTAGCGTGACCACTTCCATCTTAAAAACAAACCTAAAAAACAAAATTTATTATATATATATATATATATATATAAAGGACTGTGGGTTGTATACAAACTATTGCAAACACTTGTGCAAATCTGTCTTGATATAAAGGAAAAGCAAAATCTGTATAACATTATTACTACTTGAATGCCTCTGTGACTGATTTTTTTTTCATTTTAAATATAAACTTTTTTGTGAGAAGTATGCTCAATGTTTTTTTTCCCTTTCCCCATTCCCTTGTAAATACATTTTGTTCTATGTGACTTGGTTTGGAAATAGTTAACTGGTACTGTAATTTGCATTAAATAAAAAGTAGGTTAGCCTGGAAATGAAATTAAAATTCACAAGTGTGTGGTCTTTATTTCAGTACCCAACCCTCTTCCTTCACCCTACTATTTTGCCGCTGCAATATGTAGTCACATCACCATTTCCATTCCTCTTAATTAGGGAAACATTAATCTTTGTTATACAGAACAAGATATGAATACCACTTCTTATTCTTTCCAATGATTTTATTCCATTGTGTAGCCCCAAGAGGTGCAGCTTCCACCTTGGAAACCTTTGGATTTGATGTAGACGAAGCTTTGCAGACACTGCTTAGAAAAGAAAGAAAATAACTCTGAAAGGGACAGTTTTTAAATGTGTATAAGCTGCTGTCTTTGATTACCGTGTTCATGATTTGGTGTGGCTGTATTTTCTTTTAACTTTCATCCTATTAGTAATGGTCTTTGGGGGTCTCTGTAAAATATATGGACACCACGAACAGTGGGGCTGTACCTCCCAGGTAACCAACACATGTTGTGTTTGAGTCTGCTCATTTCCAATACTGGATGATGTATGTAAACATGTTATGTCTCTTAGTGCAAAAAGAAACATCATTTTTTTAGGGCTGGCTCACTCTGTCAGGCCTAATCTAAAGGCTAGATATAAGGTCATGTGACTGCTGCTTCAATAAAAACAAATTTATATTCGA\n"
     ]
    }
   ],
   "source": [
    "#Fetch, set, and call arguments for BLAST search and hit records; print BLAST hit for sanity check\n",
    "Entrez.email = \"msahmed@ucsd.edu\"\n",
    "handle = Entrez.efetch(db=\"nucleotide\", id=\"1753064737\", rettype=\"gb\", retmode=\"text\")\n",
    "record = SeqIO.read(handle, \"genbank\")\n",
    "BLAST_Hit = record.seq\n",
    "print(BLAST_Hit)"
   ]
  },
  {
   "cell_type": "code",
   "execution_count": 102,
   "id": "eddc1c30",
   "metadata": {
    "scrolled": false
   },
   "outputs": [
    {
     "name": "stderr",
     "output_type": "stream",
     "text": [
      "IOPub data rate exceeded.\n",
      "The notebook server will temporarily stop sending output\n",
      "to the client in order to avoid crashing it.\n",
      "To change this limit, set the config variable\n",
      "`--NotebookApp.iopub_data_rate_limit`.\n",
      "\n",
      "Current values:\n",
      "NotebookApp.iopub_data_rate_limit=1000000.0 (bytes/sec)\n",
      "NotebookApp.rate_limit_window=3.0 (secs)\n",
      "\n"
     ]
    }
   ],
   "source": [
    "#Below is the for loop for collecting the hit data from the BLAST search\n",
    "window = 10\n",
    "seq_one = str(EGFR_gene_seq)\n",
    "seq_two = str(BLAST_Hit)\n",
    "data = [\n",
    "    [\n",
    "        (seq_one[i : i + window] != seq_two[j: j + window])\n",
    "        for j in range(len(seq_one) - window)\n",
    "    ]\n",
    "    for i in range(len(seq_two) - window)\n",
    "]\n",
    "#Print the data for sanity check\n",
    "print(data)"
   ]
  },
  {
   "cell_type": "code",
   "execution_count": 36,
   "id": "5ec6cf51",
   "metadata": {},
   "outputs": [
    {
     "data": {
      "text/html": [
       "<div>\n",
       "<style scoped>\n",
       "    .dataframe tbody tr th:only-of-type {\n",
       "        vertical-align: middle;\n",
       "    }\n",
       "\n",
       "    .dataframe tbody tr th {\n",
       "        vertical-align: top;\n",
       "    }\n",
       "\n",
       "    .dataframe thead th {\n",
       "        text-align: right;\n",
       "    }\n",
       "</style>\n",
       "<table border=\"1\" class=\"dataframe\">\n",
       "  <thead>\n",
       "    <tr style=\"text-align: right;\">\n",
       "      <th></th>\n",
       "      <th>GSM1214839</th>\n",
       "      <th>GSM1214870</th>\n",
       "      <th>GSM1214946</th>\n",
       "      <th>GSM1214914</th>\n",
       "      <th>GSM1214861</th>\n",
       "      <th>GSM1214858</th>\n",
       "      <th>GSM1214919</th>\n",
       "      <th>GSM1214891</th>\n",
       "      <th>GSM1214933</th>\n",
       "      <th>GSM1214863</th>\n",
       "      <th>...</th>\n",
       "      <th>GSM1214938</th>\n",
       "      <th>GSM1214907</th>\n",
       "      <th>GSM1214860</th>\n",
       "      <th>GSM1214835</th>\n",
       "      <th>GSM1214859</th>\n",
       "      <th>GSM1214888</th>\n",
       "      <th>GSM1214842</th>\n",
       "      <th>GSM1214854</th>\n",
       "      <th>GSM1214932</th>\n",
       "      <th>GSM1214943</th>\n",
       "    </tr>\n",
       "    <tr>\n",
       "      <th>Gene ID</th>\n",
       "      <th></th>\n",
       "      <th></th>\n",
       "      <th></th>\n",
       "      <th></th>\n",
       "      <th></th>\n",
       "      <th></th>\n",
       "      <th></th>\n",
       "      <th></th>\n",
       "      <th></th>\n",
       "      <th></th>\n",
       "      <th></th>\n",
       "      <th></th>\n",
       "      <th></th>\n",
       "      <th></th>\n",
       "      <th></th>\n",
       "      <th></th>\n",
       "      <th></th>\n",
       "      <th></th>\n",
       "      <th></th>\n",
       "      <th></th>\n",
       "      <th></th>\n",
       "    </tr>\n",
       "  </thead>\n",
       "  <tbody>\n",
       "    <tr>\n",
       "      <th>ENSG00000000003</th>\n",
       "      <td>12.530779</td>\n",
       "      <td>10.574728</td>\n",
       "      <td>8.901904</td>\n",
       "      <td>9.125750</td>\n",
       "      <td>12.421770</td>\n",
       "      <td>12.390582</td>\n",
       "      <td>10.587395</td>\n",
       "      <td>9.775764</td>\n",
       "      <td>10.953650</td>\n",
       "      <td>12.889096</td>\n",
       "      <td>...</td>\n",
       "      <td>10.115028</td>\n",
       "      <td>11.082405</td>\n",
       "      <td>12.138125</td>\n",
       "      <td>11.162106</td>\n",
       "      <td>12.069830</td>\n",
       "      <td>10.373321</td>\n",
       "      <td>12.072065</td>\n",
       "      <td>13.004275</td>\n",
       "      <td>11.116256</td>\n",
       "      <td>8.451800</td>\n",
       "    </tr>\n",
       "    <tr>\n",
       "      <th>ENSG00000000005</th>\n",
       "      <td>5.578862</td>\n",
       "      <td>4.648109</td>\n",
       "      <td>4.928502</td>\n",
       "      <td>5.167403</td>\n",
       "      <td>6.741219</td>\n",
       "      <td>7.942018</td>\n",
       "      <td>5.154882</td>\n",
       "      <td>6.107624</td>\n",
       "      <td>5.171059</td>\n",
       "      <td>8.402895</td>\n",
       "      <td>...</td>\n",
       "      <td>5.826196</td>\n",
       "      <td>4.973659</td>\n",
       "      <td>6.846999</td>\n",
       "      <td>5.621982</td>\n",
       "      <td>6.883944</td>\n",
       "      <td>7.876570</td>\n",
       "      <td>7.698542</td>\n",
       "      <td>9.129436</td>\n",
       "      <td>4.605781</td>\n",
       "      <td>6.175454</td>\n",
       "    </tr>\n",
       "    <tr>\n",
       "      <th>ENSG00000000419</th>\n",
       "      <td>9.935005</td>\n",
       "      <td>11.226949</td>\n",
       "      <td>10.760399</td>\n",
       "      <td>10.680660</td>\n",
       "      <td>10.355054</td>\n",
       "      <td>10.167863</td>\n",
       "      <td>10.542146</td>\n",
       "      <td>10.868650</td>\n",
       "      <td>11.093225</td>\n",
       "      <td>10.908222</td>\n",
       "      <td>...</td>\n",
       "      <td>10.260016</td>\n",
       "      <td>11.528845</td>\n",
       "      <td>10.293773</td>\n",
       "      <td>10.748144</td>\n",
       "      <td>10.349355</td>\n",
       "      <td>11.791288</td>\n",
       "      <td>10.231608</td>\n",
       "      <td>10.334636</td>\n",
       "      <td>11.549869</td>\n",
       "      <td>10.229079</td>\n",
       "    </tr>\n",
       "    <tr>\n",
       "      <th>ENSG00000000457</th>\n",
       "      <td>6.900466</td>\n",
       "      <td>9.592868</td>\n",
       "      <td>8.478334</td>\n",
       "      <td>9.827431</td>\n",
       "      <td>7.774463</td>\n",
       "      <td>7.751121</td>\n",
       "      <td>8.897015</td>\n",
       "      <td>8.076297</td>\n",
       "      <td>9.101728</td>\n",
       "      <td>9.121765</td>\n",
       "      <td>...</td>\n",
       "      <td>8.886899</td>\n",
       "      <td>9.075502</td>\n",
       "      <td>7.755260</td>\n",
       "      <td>9.020487</td>\n",
       "      <td>8.351745</td>\n",
       "      <td>7.941254</td>\n",
       "      <td>7.121500</td>\n",
       "      <td>7.741899</td>\n",
       "      <td>9.186919</td>\n",
       "      <td>7.245342</td>\n",
       "    </tr>\n",
       "    <tr>\n",
       "      <th>ENSG00000000460</th>\n",
       "      <td>5.582812</td>\n",
       "      <td>7.162610</td>\n",
       "      <td>5.909370</td>\n",
       "      <td>9.326731</td>\n",
       "      <td>5.613713</td>\n",
       "      <td>6.172324</td>\n",
       "      <td>7.103419</td>\n",
       "      <td>6.802923</td>\n",
       "      <td>7.712029</td>\n",
       "      <td>7.009866</td>\n",
       "      <td>...</td>\n",
       "      <td>5.398358</td>\n",
       "      <td>8.196476</td>\n",
       "      <td>6.214931</td>\n",
       "      <td>6.411690</td>\n",
       "      <td>6.121756</td>\n",
       "      <td>7.283123</td>\n",
       "      <td>5.242648</td>\n",
       "      <td>6.232159</td>\n",
       "      <td>8.044722</td>\n",
       "      <td>4.997038</td>\n",
       "    </tr>\n",
       "  </tbody>\n",
       "</table>\n",
       "<p>5 rows × 130 columns</p>\n",
       "</div>"
      ],
      "text/plain": [
       "                 GSM1214839  GSM1214870  GSM1214946  GSM1214914  GSM1214861  \\\n",
       "Gene ID                                                                       \n",
       "ENSG00000000003   12.530779   10.574728    8.901904    9.125750   12.421770   \n",
       "ENSG00000000005    5.578862    4.648109    4.928502    5.167403    6.741219   \n",
       "ENSG00000000419    9.935005   11.226949   10.760399   10.680660   10.355054   \n",
       "ENSG00000000457    6.900466    9.592868    8.478334    9.827431    7.774463   \n",
       "ENSG00000000460    5.582812    7.162610    5.909370    9.326731    5.613713   \n",
       "\n",
       "                 GSM1214858  GSM1214919  GSM1214891  GSM1214933  GSM1214863  \\\n",
       "Gene ID                                                                       \n",
       "ENSG00000000003   12.390582   10.587395    9.775764   10.953650   12.889096   \n",
       "ENSG00000000005    7.942018    5.154882    6.107624    5.171059    8.402895   \n",
       "ENSG00000000419   10.167863   10.542146   10.868650   11.093225   10.908222   \n",
       "ENSG00000000457    7.751121    8.897015    8.076297    9.101728    9.121765   \n",
       "ENSG00000000460    6.172324    7.103419    6.802923    7.712029    7.009866   \n",
       "\n",
       "                 ...  GSM1214938  GSM1214907  GSM1214860  GSM1214835  \\\n",
       "Gene ID          ...                                                   \n",
       "ENSG00000000003  ...   10.115028   11.082405   12.138125   11.162106   \n",
       "ENSG00000000005  ...    5.826196    4.973659    6.846999    5.621982   \n",
       "ENSG00000000419  ...   10.260016   11.528845   10.293773   10.748144   \n",
       "ENSG00000000457  ...    8.886899    9.075502    7.755260    9.020487   \n",
       "ENSG00000000460  ...    5.398358    8.196476    6.214931    6.411690   \n",
       "\n",
       "                 GSM1214859  GSM1214888  GSM1214842  GSM1214854  GSM1214932  \\\n",
       "Gene ID                                                                       \n",
       "ENSG00000000003   12.069830   10.373321   12.072065   13.004275   11.116256   \n",
       "ENSG00000000005    6.883944    7.876570    7.698542    9.129436    4.605781   \n",
       "ENSG00000000419   10.349355   11.791288   10.231608   10.334636   11.549869   \n",
       "ENSG00000000457    8.351745    7.941254    7.121500    7.741899    9.186919   \n",
       "ENSG00000000460    6.121756    7.283123    5.242648    6.232159    8.044722   \n",
       "\n",
       "                 GSM1214943  \n",
       "Gene ID                      \n",
       "ENSG00000000003    8.451800  \n",
       "ENSG00000000005    6.175454  \n",
       "ENSG00000000419   10.229079  \n",
       "ENSG00000000457    7.245342  \n",
       "ENSG00000000460    4.997038  \n",
       "\n",
       "[5 rows x 130 columns]"
      ]
     },
     "execution_count": 36,
     "metadata": {},
     "output_type": "execute_result"
    }
   ],
   "source": [
    "#Read in normalized oncogene expression for all samples from csv\n",
    "df = pd.read_csv('E_GEODnormalized_expressions.csv',header=0,index_col=0)\n",
    "#Sanity check for loading in csv\n",
    "df.head()"
   ]
  },
  {
   "cell_type": "code",
   "execution_count": 35,
   "id": "59a7cd4a",
   "metadata": {},
   "outputs": [
    {
     "data": {
      "text/html": [
       "<div>\n",
       "<style scoped>\n",
       "    .dataframe tbody tr th:only-of-type {\n",
       "        vertical-align: middle;\n",
       "    }\n",
       "\n",
       "    .dataframe tbody tr th {\n",
       "        vertical-align: top;\n",
       "    }\n",
       "\n",
       "    .dataframe thead th {\n",
       "        text-align: right;\n",
       "    }\n",
       "</style>\n",
       "<table border=\"1\" class=\"dataframe\">\n",
       "  <thead>\n",
       "    <tr style=\"text-align: right;\">\n",
       "      <th></th>\n",
       "      <th>Unnamed: 1</th>\n",
       "      <th>Unnamed: 2</th>\n",
       "    </tr>\n",
       "  </thead>\n",
       "  <tbody>\n",
       "    <tr>\n",
       "      <th>Assay</th>\n",
       "      <td>Sample Characteristic[disease]</td>\n",
       "      <td>Replicate</td>\n",
       "    </tr>\n",
       "    <tr>\n",
       "      <th>GSM1214834</th>\n",
       "      <td>ependymoma</td>\n",
       "      <td>1</td>\n",
       "    </tr>\n",
       "    <tr>\n",
       "      <th>GSM1214835</th>\n",
       "      <td>ependymoma</td>\n",
       "      <td>2</td>\n",
       "    </tr>\n",
       "    <tr>\n",
       "      <th>GSM1214836</th>\n",
       "      <td>ependymoma</td>\n",
       "      <td>3</td>\n",
       "    </tr>\n",
       "    <tr>\n",
       "      <th>GSM1214837</th>\n",
       "      <td>ependymoma</td>\n",
       "      <td>4</td>\n",
       "    </tr>\n",
       "  </tbody>\n",
       "</table>\n",
       "</div>"
      ],
      "text/plain": [
       "                                Unnamed: 1 Unnamed: 2\n",
       "Assay       Sample Characteristic[disease]  Replicate\n",
       "GSM1214834                      ependymoma          1\n",
       "GSM1214835                      ependymoma          2\n",
       "GSM1214836                      ependymoma          3\n",
       "GSM1214837                      ependymoma          4"
      ]
     },
     "execution_count": 35,
     "metadata": {},
     "output_type": "execute_result"
    }
   ],
   "source": [
    "#Read in the experiment design for the sample categories \n",
    "df = pd.read_csv('E_GEODexperiment_design.csv',header=0,index_col=0)\n",
    "#Sanity check for loading csv\n",
    "df.head()"
   ]
  },
  {
   "cell_type": "code",
   "execution_count": 37,
   "id": "6333c771",
   "metadata": {},
   "outputs": [
    {
     "ename": "ModuleNotFoundError",
     "evalue": "No module named 'diffexpr'",
     "output_type": "error",
     "traceback": [
      "\u001b[0;31m---------------------------------------------------------------------------\u001b[0m",
      "\u001b[0;31mModuleNotFoundError\u001b[0m                       Traceback (most recent call last)",
      "\u001b[0;32m/var/folders/89/ry9yq7_s7fz26jg3h1w9l5_c0000gp/T/ipykernel_88333/3547965461.py\u001b[0m in \u001b[0;36m<module>\u001b[0;34m\u001b[0m\n\u001b[0;32m----> 1\u001b[0;31m \u001b[0;32mfrom\u001b[0m \u001b[0mdiffexpr\u001b[0m\u001b[0;34m.\u001b[0m\u001b[0mpy_deseq\u001b[0m \u001b[0;32mimport\u001b[0m \u001b[0mpy_DESeq2\u001b[0m\u001b[0;34m\u001b[0m\u001b[0;34m\u001b[0m\u001b[0m\n\u001b[0m\u001b[1;32m      2\u001b[0m \u001b[0;34m\u001b[0m\u001b[0m\n\u001b[1;32m      3\u001b[0m dds = py_DESeq2(count_matrix = df,\n\u001b[1;32m      4\u001b[0m                \u001b[0mdesign_matrix\u001b[0m \u001b[0;34m=\u001b[0m \u001b[0msample_df\u001b[0m\u001b[0;34m,\u001b[0m\u001b[0;34m\u001b[0m\u001b[0;34m\u001b[0m\u001b[0m\n\u001b[1;32m      5\u001b[0m                \u001b[0mdesign_formula\u001b[0m \u001b[0;34m=\u001b[0m \u001b[0;34m'~ Replicate + Sample Characteristic[disease]'\u001b[0m\u001b[0;34m,\u001b[0m\u001b[0;34m\u001b[0m\u001b[0;34m\u001b[0m\u001b[0m\n",
      "\u001b[0;31mModuleNotFoundError\u001b[0m: No module named 'diffexpr'"
     ]
    }
   ],
   "source": [
    "#Set argument for DESeq2 matrices for performing RNAseq; generally failed due to being unable to load in environment\n",
    "dds = py_DESeq2(count_matrix = df,\n",
    "               design_matrix = sample_df,\n",
    "               design_formula = '~ Replicate + Sample Characteristic[disease]',\n",
    "               gene_column = 'Gene ID') # <- telling DESeq2 this should be the gene ID column\n",
    "#Attempt DESeq2 run and set arguments for sanity check; failed due to previous loading issue with environment   \n",
    "dds.run_deseq() \n",
    "dds.get_deseq_result(contrast = ['Sample Characteristic[disease]','ependymoma','glioblastoma','medulloblastoma','normal','Astrocytoma, Pilocytic'])\n",
    "res = dds.deseq_result \n",
    "#Sanity check for performing RNAseq with DESeq2\n",
    "res.head()"
   ]
  },
  {
   "cell_type": "code",
   "execution_count": 39,
   "id": "7f4c1035",
   "metadata": {},
   "outputs": [
    {
     "ename": "NameError",
     "evalue": "name 'dds' is not defined",
     "output_type": "error",
     "traceback": [
      "\u001b[0;31m---------------------------------------------------------------------------\u001b[0m",
      "\u001b[0;31mNameError\u001b[0m                                 Traceback (most recent call last)",
      "\u001b[0;32m/var/folders/89/ry9yq7_s7fz26jg3h1w9l5_c0000gp/T/ipykernel_88333/2361708611.py\u001b[0m in \u001b[0;36m<module>\u001b[0;34m\u001b[0m\n\u001b[0;32m----> 1\u001b[0;31m \u001b[0mdds\u001b[0m\u001b[0;34m.\u001b[0m\u001b[0mnormalized_count\u001b[0m\u001b[0;34m(\u001b[0m\u001b[0;34m)\u001b[0m\u001b[0;34m\u001b[0m\u001b[0;34m\u001b[0m\u001b[0m\n\u001b[0m\u001b[1;32m      2\u001b[0m \u001b[0mdds\u001b[0m\u001b[0;34m.\u001b[0m\u001b[0mcomparison\u001b[0m \u001b[0;31m# show coefficients for GLM\u001b[0m\u001b[0;34m\u001b[0m\u001b[0;34m\u001b[0m\u001b[0m\n\u001b[1;32m      3\u001b[0m \u001b[0mlfc_res\u001b[0m \u001b[0;34m=\u001b[0m \u001b[0mdds\u001b[0m\u001b[0;34m.\u001b[0m\u001b[0mlfcShrink\u001b[0m\u001b[0;34m(\u001b[0m\u001b[0mcoef\u001b[0m\u001b[0;34m=\u001b[0m\u001b[0;36m4\u001b[0m\u001b[0;34m,\u001b[0m \u001b[0mmethod\u001b[0m\u001b[0;34m=\u001b[0m\u001b[0;34m'apeglm'\u001b[0m\u001b[0;34m)\u001b[0m\u001b[0;34m\u001b[0m\u001b[0;34m\u001b[0m\u001b[0m\n\u001b[1;32m      4\u001b[0m \u001b[0mlfc_res\u001b[0m\u001b[0;34m.\u001b[0m\u001b[0mhead\u001b[0m\u001b[0;34m(\u001b[0m\u001b[0;34m)\u001b[0m\u001b[0;34m\u001b[0m\u001b[0;34m\u001b[0m\u001b[0m\n",
      "\u001b[0;31mNameError\u001b[0m: name 'dds' is not defined"
     ]
    }
   ],
   "source": [
    "#For the matrix above, call normalized counts; none of the below work due to loading package and environment\n",
    "dds.normalized_count()\n",
    "#Show the coefficients for the normalized counts\n",
    "dds.comparison \n",
    "#Set the coefficients for the log fold change\n",
    "lfc_res = dds.lfcShrink(coef=4, method='apeglm')\n",
    "#Print final RNAseq matrix for sanity check\n",
    "lfc_res.head()"
   ]
  },
  {
   "cell_type": "markdown",
   "id": "7a05bd2d",
   "metadata": {},
   "source": [
    "## Plotting The Results\n",
    "\n",
    "### Plotting Methods:\n",
    "- Heat map w/ Hierarchical Clustering: Heat maps are 2D plots that indicate the colored magnitude/degree of phenomena for categorical variables. For example, gene regulation by the sample name and specific gene name can be visualized to indicate the up or down regulation from a dataset. This is useful to immediately give the viewer a general scope of the phenomena magnitude for given categories. Additionally, combining this with hierarchical clustering indicates how groups of samples/populations are similar to one another. Again for gene expression, this can indicate how grouped/related genes can have similar patterns of regulation to suggest interactions/co-regulation.   \n",
    "\n",
    "\n",
    "- Volcano Plots: Volcano plots are 2D scatter plots for where normalized/logarithmic values are inputted as opposed to the original values, and are then compared against a significance score (i.e., p-value) to be plotted for the magnitude of samples. For gene regulation specifically, the log2 fold change, calucated from RNAseq data analysis, is utilized to indicate the up or down regulation (positive to negative respectfully) of the gene expression. This is compared to the significance of the gene expression (i.e., p-value), also calculated from RNAseq, to plot the regulation of the gene from a sample.  "
   ]
  },
  {
   "cell_type": "code",
   "execution_count": 94,
   "id": "f1430ea9",
   "metadata": {},
   "outputs": [
    {
     "name": "stdout",
     "output_type": "stream",
     "text": [
      "           'Astrocytoma, Pilocytic' vs 'normal'.foldChange  \\\n",
      "Gene Name                                                    \n",
      "TSPAN6                                                 1.9   \n",
      "TNMD                                                   0.1   \n",
      "DPM1                                                   0.0   \n",
      "SCYL3                                                  0.2   \n",
      "C1orf112                                               1.1   \n",
      "\n",
      "           'ependymoma' vs 'normal'.foldChange  \\\n",
      "Gene Name                                        \n",
      "TSPAN6                                     3.2   \n",
      "TNMD                                       1.5   \n",
      "DPM1                                       0.2   \n",
      "SCYL3                                      0.2   \n",
      "C1orf112                                   1.0   \n",
      "\n",
      "           'glioblastoma' vs 'normal'.foldChange  \\\n",
      "Gene Name                                          \n",
      "TSPAN6                                       1.8   \n",
      "TNMD                                         0.3   \n",
      "DPM1                                         0.6   \n",
      "SCYL3                                        0.2   \n",
      "C1orf112                                     1.7   \n",
      "\n",
      "           'medulloblastoma' vs 'normal'.foldChange  \n",
      "Gene Name                                            \n",
      "TSPAN6                                          1.2  \n",
      "TNMD                                           -0.1  \n",
      "DPM1                                            0.5  \n",
      "SCYL3                                           0.4  \n",
      "C1orf112                                        1.8  \n"
     ]
    },
    {
     "data": {
      "image/png": "[encoded data removed]",
      "text/plain": [
       "<Figure size 720x720 with 4 Axes>"
      ]
     },
     "metadata": {
      "needs_background": "light"
     },
     "output_type": "display_data"
    }
   ],
   "source": [
    "#Assign array to argument first to all data to be read\n",
    "first=[]\n",
    "#Assign arguments to read in gene expression for metastasized CNS cancer variants, clean out blank values with 0 \n",
    "data = pd.read_csv(\"E_GEODlog2foldchangeall.csv\",header=0, index_col=0)\n",
    "data = data.fillna(0).astype(float)\n",
    "genes = data.index\n",
    "#Sanity check for loading in csv\n",
    "print(data.head())\n",
    "#Use seaborn as sns to set up the hierarichally clustered heat map for a paper\n",
    "sns.set_context(\"paper\", font_scale=0.8)\n",
    "#Plot the heat map within a hierarichal cluster\n",
    "sns_plot = sns.clustermap(data)\n",
    "#Save the sns_plot as a pdf for safe-keeping\n",
    "sns_plot.savefig(\"heatmap.pdf\")\n",
    "#Sanity check for showing plot\n",
    "plt.show()"
   ]
  },
  {
   "cell_type": "code",
   "execution_count": 63,
   "id": "25766c65",
   "metadata": {},
   "outputs": [
    {
     "name": "stdout",
     "output_type": "stream",
     "text": [
      "           logFC      p_values\n",
      "GeneNames                     \n",
      "TSPAN6       1.9  1.733737e-10\n",
      "TNMD         0.1  6.342689e-01\n",
      "DPM1         0.0  0.000000e+00\n",
      "SCYL3        0.2  5.638641e-01\n",
      "C1orf112     1.1  4.566022e-05\n",
      "           logFC      p_values\n",
      "GeneNames                     \n",
      "TSPAN6       3.2  1.325364e-19\n",
      "TNMD         1.5  2.148884e-03\n",
      "DPM1         0.2  2.669879e-01\n",
      "SCYL3        0.2  4.200296e-01\n",
      "C1orf112     1.0  2.591945e-05\n",
      "           logFC      p_values\n",
      "GeneNames                     \n",
      "TSPAN6       1.8  3.958486e-10\n",
      "TNMD         0.3  3.091539e-01\n",
      "DPM1         0.6  1.881559e-03\n",
      "SCYL3        0.2  5.710208e-01\n",
      "C1orf112     1.7  2.606130e-07\n",
      "           logFC  p_values\n",
      "GeneNames                 \n",
      "TSPAN6       1.2  0.000039\n",
      "TNMD        -0.1  0.768523\n",
      "DPM1         0.5  0.025792\n",
      "SCYL3        0.4  0.176017\n",
      "C1orf112     1.8  0.000002\n"
     ]
    }
   ],
   "source": [
    "#Read in the appropriate csv files for oncogene regulation of metastasized CNS cancer variants\n",
    "dfA=pd.read_csv('E_GEODvolcanodata10KA.csv',index_col=0) #pilocytic astrocytoma\n",
    "dfE=pd.read_csv('E_GEODvolcanodata10KE.csv',index_col=0) #ependymoma\n",
    "dfG=pd.read_csv('E_GEODvolcanodata10KG.csv',index_col=0) #glioblastoma\n",
    "dfM=pd.read_csv('E_GEODvolcanodata10KM.csv',index_col=0) #medulloblastoma\n",
    "#Clean out cns files for blanks with 0\n",
    "dfA=dfA.fillna(0);dfE=dfE.fillna(0);dfG=dfG.fillna(0);dfM=dfM.fillna(0)\n",
    "#Sanity check to print out dataframes\n",
    "print(dfA.head());print(dfE.head());print(dfG.head());print(dfM.head())"
   ]
  },
  {
   "cell_type": "code",
   "execution_count": 96,
   "id": "60ec2da8",
   "metadata": {},
   "outputs": [
    {
     "data": {
      "image/png": "[encoded data removed]",
      "text/plain": [
       "<Figure size 432x288 with 1 Axes>"
      ]
     },
     "metadata": {
      "needs_background": "light"
     },
     "output_type": "display_data"
    },
    {
     "data": {
      "image/png": "[encoded data removed]",
      "text/plain": [
       "<Figure size 432x288 with 1 Axes>"
      ]
     },
     "metadata": {
      "needs_background": "light"
     },
     "output_type": "display_data"
    },
    {
     "data": {
      "image/png": "[encoded data removed]",
      "text/plain": [
       "<Figure size 432x288 with 1 Axes>"
      ]
     },
     "metadata": {
      "needs_background": "light"
     },
     "output_type": "display_data"
    },
    {
     "data": {
      "image/png": "[encoded data removed]",
      "text/plain": [
       "<Figure size 432x288 with 1 Axes>"
      ]
     },
     "metadata": {
      "needs_background": "light"
     },
     "output_type": "display_data"
    }
   ],
   "source": [
    "#Assign x as log2 fold changes and y as p-values to plot volcano plots, plot show when argument is set\n",
    "volcanoA = dfA.plot.scatter(x='logFC',y='p_values',alpha=0.3,title='Astrocytoma, Pilocytic Volcano Plot')\n",
    "volcanoE = dfE.plot.scatter(x='logFC',y='p_values',c='blue',alpha=0.3,title='Ependymoma Volcano Plot')\n",
    "volcanoG = dfG.plot.scatter(x='logFC',y='p_values',c='red',alpha=0.3,title='Glioblastoma Volcano Plot')\n",
    "volcanoM = dfM.plot.scatter(x='logFC',y='p_values',c='darkred',alpha=0.3,title='Medulloblastoma Volcano Plot')"
   ]
  },
  {
   "cell_type": "markdown",
   "id": "5b56f176",
   "metadata": {},
   "source": [
    "## Analyzing the Results \n",
    "\n",
    "- Beginning with the hierarchically clustered heat map, the lower regions of the heat map indicate a significant level of down-regulation, as noted by the deeper hue of red, of the region's corresponding oncogenes for all metastasized CNS cancer variants; granted, while it is difficult to tell which specific oncogenes are in fact upregulated, the original EBI database visuals noted that the majority of oncogenes were significantly down-regulated for specificually medulloblastoma. Another region of notable down-regulation is clustered in the upper-middle area of the heat map, indicative of another set of down-regulated oncogenes. The remainder of the heat map is within the normal range (around 0 log2 fold changes) for oncogene expression; but notably, a thin region of up-regulated oncogenes, by the lighter yellow hue, is apparent for all metastasized CNS varient except pilocytic astrocytoma. This suggests that no single/immediate regulation pattern is apparent between oncogene expression and the metastasized CNS cancers; although, the hierarchical clustering suggests that the expression pattern for oncogenes are similar for pilocytic astrocytoma and glioblastoma, while both ependymoma and medulloblastoma are respectively further sepererate from the grouping-indicating seperate oncogene expression patterns.\n",
    "\n",
    "\n",
    "- Moving on to the volcano plots for oncogene regulation (log2 fold changes and significance) when comparing metastasized CNS cancer variants to normal tissue samples, the general expression pattern remains similar between the plots regarding shape and trend of the oncogene expression welling toward the bottom to indicate less significance compared to the peak. Although, the spread of the plots, towards either the negative down-regulated end and positive up-regulated end for log2 fold changes, indicates the following for oncogene regulation: both ependymoma and medulloblastoma appear up-regulated upon comparison due to slight spread towards the positive end of the log2 fold changes axis, glioblastoma appear down-regulated due to the slight spread towards the negative end of the log2 fold changes axis, and pilocytic astrocytoma appears relatively neutral with no significant regulation for oncogene regulation.\n",
    "\n",
    "\n",
    "- Altogether, the plots and analysis mainly point towards there being no specifc pattern for oncogene regulation for the complied genes and metastasized CNS cancer variants. This indicates that my hypothesis was disproven and that the null hypothesis (i.e., no pattern in oncogene regulatin) is more suitable/appropriate for the data.  "
   ]
  }
 ],
 "metadata": {
  "kernelspec": {
   "display_name": "Python 3 (ipykernel)",
   "language": "python",
   "name": "python3"
  },
  "language_info": {
   "codemirror_mode": {
    "name": "ipython",
    "version": 3
   },
   "file_extension": ".py",
   "mimetype": "text/x-python",
   "name": "python",
   "nbconvert_exporter": "python",
   "pygments_lexer": "ipython3",
   "version": "3.9.7"
  }
 },
 "nbformat": 4,
 "nbformat_minor": 5
}
